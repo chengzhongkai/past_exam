{
 "cells": [
  {
   "cell_type": "markdown",
   "metadata": {},
   "source": [
    "We draw digits from O to 9 by the following pictographic characters constructed by * and |(vertical line). *, |, and a whitespace character are rendered with a fixed-width font. \n",
    "```\n",
    " 0    1    2    3    4    5    6    7    8     9           \n",
    "****  *  ****  **** *  * **** **** **** **** ****\n",
    "|  |  |     |     | |  | |    |       | |  | |  |               \n",
    "*  *  *  ****  **** **** **** ****    * **** ****\n",
    "|  |  |  |        |    |    | |  |    | |  |    |          \n",
    "****  *  ****  ****    * **** ****    * ****    *\n",
    "```\n",
    "   \n"
   ]
  },
  {
   "cell_type": "markdown",
   "metadata": {},
   "source": [
    "\n",
    "(1) Write a program that draws the pictographic characters representing the input number on the screen and then stores them in the file out1. txt. The pictographic characters are horizontally aligned. The space between two pictographic characters is two whitespace characters.\n",
    "For example, when the input number is 813, the program will draw and store the following pictographic characters: \n",
    "```\n",
    " ****  *  **** \n",
    " |  |  |     | \n",
    " ****  *  **** \n",
    " |  |  |     | \n",
    " ****  *  **** \n",
    " ```"
   ]
  },
  {
   "cell_type": "code",
   "execution_count": 1,
   "metadata": {},
   "outputs": [
    {
     "name": "stdout",
     "output_type": "stream",
     "text": [
      "[1.0, 2.0, 3.0, 4.0, 5.0, 7.0, 8.0, 9.0, 0]\n",
      "*     ****  ****  *  *  ****  ****  ****  ****  ****  \n",
      "|        |     |  |  |  |        |  |  |  |  |  |  |  \n",
      "*     ****  ****  ****  ****     *  ****  ****  *  *  \n",
      "|     |        |     |     |     |  |  |     |  |  |  \n",
      "*     ****  ****     *  ****     *  ****     *  ****  \n",
      "\n"
     ]
    }
   ],
   "source": [
    "# # # # # # # # # #\n",
    "# define graphic of 0-9\n",
    "# # # # # # # # # #\n",
    "numberList = {0:[\"****\", \"|  |\", \"*  *\", \"|  |\", \"****\"],\n",
    "              1:[\"*   \", \"|   \", \"*   \", \"|   \", \"*   \"],\n",
    "              2:[\"****\", \"   |\", \"****\", \"|   \", \"****\"],\n",
    "              3:[\"****\", \"   |\", \"****\", \"   |\", \"****\"],\n",
    "              4:[\"*  *\", \"|  |\", \"****\", \"   |\", \"   *\"],\n",
    "              5:[\"****\", \"|   \", \"****\", \"   |\", \"****\"],\n",
    "              6:[\"****\", \"|   \", \"****\", \"|  |\", \"****\"],\n",
    "              7:[\"****\", \"   |\", \"   *\", \"   |\", \"   *\"],\n",
    "              8:[\"****\", \"|  |\", \"****\", \"|  |\", \"****\"],\n",
    "              9:[\"****\", \"|  |\", \"****\", \"   |\", \"   *\"],\n",
    "             }\n",
    "# # # # # # # # # #\n",
    "# conver input from number to character key list\n",
    "# # # # # # # # # #\n",
    "input =123457890\n",
    "o=input\n",
    "outList = []\n",
    "outString=[\"\",\"\",\"\",\"\",\"\",\"\"]\n",
    "while o >0 :\n",
    "    outList.insert(0, o%10)\n",
    "    o=(o-o%10)/10\n",
    "print(outList)\n",
    "\n",
    "# # # # # # # # # # #\n",
    "# output graphic to buffer\n",
    "# # # # # # # # # # #\n",
    "for x in outList: \n",
    "    line=0\n",
    "    for y in numberList[x]:\n",
    "        outString[line]+=y+\"  \"\n",
    "        line=line+1\n",
    "\n",
    "# output RESULT  \n",
    "f = open('./out1.txt', 'w+')\n",
    "for x in outString: \n",
    "    f.write(x+\"\\n\")\n",
    "    print(x)\n",
    "f.close()\n",
    "# End\n"
   ]
  },
  {
   "cell_type": "markdown",
   "metadata": {},
   "source": [
    "(2)\tWrite a program that reads the pictographic characters stored in the file out1.txt generated in(1), recognizes them, and prints the number they represent.\n"
   ]
  },
  {
   "cell_type": "code",
   "execution_count": 2,
   "metadata": {},
   "outputs": [
    {
     "name": "stdout",
     "output_type": "stream",
     "text": [
      "*     ****  ****  *  *  ****  ****  ****  ****  ****  \n",
      "|        |     |  |  |  |        |  |  |  |  |  |  |  \n",
      "*     ****  ****  ****  ****     *  ****  ****  *  *  \n",
      "|     |        |     |     |     |  |  |     |  |  |  \n",
      "*     ****  ****     *  ****     *  ****     *  ****  \n",
      "\n",
      "1\n"
     ]
    }
   ],
   "source": [
    "import numpy as np\n",
    "\n",
    "def gicRecognize(p):\n",
    "    for i in range(len(p)):\n",
    "        if len(p[i])!=4:\n",
    "            p[i]=p[i].ljust(4, ' ')\n",
    "    for k,v in numberList.items():\n",
    "        if v[0]==p[0] and v[1]==p[1] and v[2]==p[2] and v[3]==p[3] and v[4]==p[4] :\n",
    "            return k\n",
    "    return -1;\n",
    "recognizeResult = 0\n",
    "\n",
    "f = open('./out1.txt', 'r')\n",
    "l=f.readline()\n",
    "gicNum=[]\n",
    "while l:\n",
    "    gicNum.append(list(l))\n",
    "    print(l, end='')\n",
    "    l=f.readline()\n",
    "    \n",
    "gicBuf=[\"\",\"\",\"\",\"\",\"\"]\n",
    "while len(gicNum[0])>1:\n",
    "    l1 = gicNum[0][0]\n",
    "    l2 = gicNum[1][0]\n",
    "    l3 = gicNum[2][0]\n",
    "    l4 = gicNum[3][0]\n",
    "    l5 = gicNum[4][0]\n",
    "    gicNum[0] = gicNum[0][1:]\n",
    "    gicNum[1] = gicNum[1][1:]\n",
    "    gicNum[2] = gicNum[2][1:]\n",
    "    gicNum[3] = gicNum[3][1:]\n",
    "    gicNum[4] = gicNum[4][1:]\n",
    "    if l1  == \" \"  and l2 == \" \"  and l3 == \" \"  and l4 == \" \"  and l5 == \" \" :\n",
    "        re = gicRecognize(gicBuf) \n",
    "        if re>-1:\n",
    "            recognizeResult=recognizeResult*10+re;\n",
    "            gicBuf=[\"\",\"\",\"\",\"\",\"\"]\n",
    "    else:\n",
    "        gicBuf[0]=gicBuf[0]+l1\n",
    "        gicBuf[1]=gicBuf[1]+l2\n",
    "        gicBuf[2]=gicBuf[2]+l3\n",
    "        gicBuf[3]=gicBuf[3]+l4\n",
    "        gicBuf[4]=gicBuf[4]+l5\n",
    "    \n",
    "# # #\n",
    "# display recognize result\n",
    "# # #\n",
    "print(recognizeResult)"
   ]
  },
  {
   "cell_type": "markdown",
   "metadata": {},
   "source": [
    "(3)\tWrite a program that draws the pictographic characters for the input number, considering the specified spaces and vertical positions, on the screen and then stores them in the file out3. txt. The input is comma-separated integers. From the beginning, they are the number drawn (non-negative integer), the vertical position of the first digit (non-negative integer), the space between the first and the second digits (positive integer), the vertical position of the second digit, the space, ... and the vertical position of the last digit. For example, when the input is the following numbers:  \n",
    "813,0,4,1,3,2   \n",
    "the program draws 813. 8 is drawn from the zeroth line, 1 is from the first line, 3 is from the second line. The space between 8 and 1 is four whitespace characters and the space between 1 and 3 is three whitespace characters. The pictographic characters will be drawn as follows:\n",
    "```\n",
    "****    \n",
    "|  |    * \n",
    "****    |   **** \n",
    "|  |    *      | \n",
    "****    |   **** \n",
    "        *      | \n",
    "            **** \n",
    "```"
   ]
  },
  {
   "cell_type": "code",
   "execution_count": 3,
   "metadata": {},
   "outputs": [
    {
     "name": "stdout",
     "output_type": "stream",
     "text": [
      "[8, 1, 3] [0, 4, 1, 3, 2]\n",
      "****\n",
      "|  |    *   \n",
      "****    |      ****\n",
      "|  |    *         |\n",
      "****    |      ****\n",
      "        *         |\n",
      "               ****\n",
      "\n",
      "\n",
      "\n"
     ]
    }
   ],
   "source": [
    "inStr=\"813,0,4,1,3,2\"\n",
    "inNumList=[]\n",
    "outList=[]\n",
    "outBuf=[\"\",\"\",\"\",\"\",\"\",\"\",\"\",\"\",\"\",\"\"]\n",
    "for i in inStr.split(\",\"):\n",
    "    inNumList.append(int(i))\n",
    "outNum = inNumList.pop(0)\n",
    "\n",
    "# get output number list\n",
    "while outNum>0:\n",
    "    outList.insert(0,outNum%10)\n",
    "    outNum=int(outNum/10)\n",
    "print(outList,inNumList)\n",
    "\n",
    "\n",
    "curX=0\n",
    "curY=0\n",
    "for i in outList:\n",
    "    #get output location \n",
    "    curY=inNumList.pop(0)\n",
    "    for s in numberList[i]:\n",
    "        if len(outBuf[curY])<curX:\n",
    "            outBuf[curY]+=\" \"*(curX-len(outBuf[curY]))\n",
    "        outBuf[curY]+=s\n",
    "        curY=curY+1\n",
    "    #get output vertical position for next digit\n",
    "    if len(inNumList)>0:\n",
    "        curX+=(len(numberList[i][0])+inNumList.pop(0))\n",
    "#output to file\n",
    "f = open('./out3.txt', 'w+')\n",
    "for i in outBuf:\n",
    "    f.write(i)\n",
    "    f.write(\"\\n\")\n",
    "    print(i)\n",
    "f.close()\n"
   ]
  },
  {
   "cell_type": "markdown",
   "metadata": {},
   "source": [
    "(4) Write a program that reads the pictographic characters stored in the file out3. txt generated in (3), recognizes them, and prints the number they represent.\n",
    "  "
   ]
  },
  {
   "cell_type": "code",
   "execution_count": 4,
   "metadata": {},
   "outputs": [
    {
     "name": "stdout",
     "output_type": "stream",
     "text": [
      "start...\n",
      "813\n"
     ]
    }
   ],
   "source": [
    "def hasChar(arr):\n",
    "    if \"*\" in arr or \"|\" in arr:\n",
    "        return True\n",
    "    return False\n",
    "    \n",
    "print(\"start...\")\n",
    "output = 0\n",
    "outputList=[]\n",
    "# read file to gicNum\n",
    "f = open('./out3.txt', 'r')\n",
    "l=f.readline()\n",
    "gicNum=[]\n",
    "maxLen=0\n",
    "while l:\n",
    "    gicNum.append(l)\n",
    "    if len(l)> maxLen:\n",
    "        maxLen=len(l)\n",
    "    l=f.readline()\n",
    "for i in range(len(gicNum)):\n",
    "    if len(gicNum[i])<maxLen:\n",
    "        gicNum[i]=gicNum[i].ljust(maxLen,' ')\n",
    "        \n",
    "#find char\n",
    "for idx in range(maxLen-1, -1, -1):\n",
    "    if not hasChar([i[idx] for i in gicNum]):\n",
    "        if idx == len(gicNum[0])-1:\n",
    "            pass\n",
    "        else:\n",
    "            p=[i[idx+1:] for i in gicNum if len(i[idx+1:].strip()) >0]\n",
    "            out=gicRecognize(p)\n",
    "            outputList.insert(0, out)\n",
    "        for x in range(len(gicNum)):\n",
    "            gicNum[x]=gicNum[x][0:idx]\n",
    "    if idx == 0 :\n",
    "        p=[i[idx:] for i in gicNum if len(i[idx:].strip()) >0]\n",
    "        out=gicRecognize(p)\n",
    "        outputList.insert(0, out)\n",
    "        \n",
    "for i in outputList:\n",
    "    output = i + output*10\n",
    "print(output)"
   ]
  },
  {
   "cell_type": "markdown",
   "metadata": {},
   "source": [
    "(5) Create a copy of the file out3.txt generated in (3), and name it out5.txt. Modify the pictographic characters in the file out5. txt by hand to have a slightly different shape. After the modification, the size of each pictographic character is still five by four except that the size of the pictographic character for the digit 1 is either five by one or five by two. For example, the contents of out5. txt after modification may be 8167 represented as follows:    \n",
    "```\n",
    "  **                ****    \n",
    " |  |   *   ***        | \n",
    "  **    |   |         * \n",
    " |  |   *   ****     | \n",
    "  **   |    |  |    * \n",
    "       *    **** \n",
    "```\n",
    "Write a program that reads the pictographic characters stored in the file out5. txt, rec­ognizes them, and prints the most probable number they represent."
   ]
  },
  {
   "cell_type": "code",
   "execution_count": 5,
   "metadata": {},
   "outputs": [
    {
     "name": "stdout",
     "output_type": "stream",
     "text": [
      "start...\n",
      "8262\n"
     ]
    }
   ],
   "source": [
    "def gicRecognize2(p):\n",
    "    for i in range(len(p)):\n",
    "        if len(p[i]) != 4:\n",
    "            p[i]=p[i].ljust(4, ' ')\n",
    "    cnt = 0\n",
    "    cntList=[]\n",
    "\n",
    "    for k,v in numberList.items():\n",
    "        cnt=0\n",
    "        for l in range(5):\n",
    "            for i in range(4):\n",
    "                if p[l][i]==v[l][i] and (v[l][i]=='|' or v[l][i]=='*'):\n",
    "                     cnt += 1\n",
    "        cntList.append(cnt/(len(''.join(v).replace(\" \", \"\"))+len(''.join(p).replace(\" \", \"\"))))\n",
    "\n",
    "    return cntList.index(max(cntList));\n",
    "\n",
    "    \n",
    "print(\"start...\")\n",
    "output = 0\n",
    "outputList=[]\n",
    "# read file to gicNum\n",
    "f = open('./out5.txt', 'r')\n",
    "l=f.readline()\n",
    "gicNum=[]\n",
    "maxLen=0\n",
    "while l:\n",
    "    gicNum.append(l)\n",
    "    if len(l)> maxLen:\n",
    "        maxLen=len(l)\n",
    "    l=f.readline()\n",
    "for i in range(len(gicNum)):\n",
    "    if len(gicNum[i])<maxLen:\n",
    "        gicNum[i]=gicNum[i].ljust(maxLen,' ')\n",
    "        \n",
    "#find char\n",
    "for idx in range(maxLen-1, -1, -1):\n",
    "    if not hasChar([i[idx] for i in gicNum]):\n",
    "        if idx == len(gicNum[0])-1:\n",
    "            pass\n",
    "        else:\n",
    "            p=[i[idx+1:] for i in gicNum if len(i[idx+1:].strip()) >0]\n",
    "            out=gicRecognize2(p)\n",
    "            outputList.insert(0, out)\n",
    "        for x in range(len(gicNum)):\n",
    "            gicNum[x]=gicNum[x][0:idx]\n",
    "    if idx == 0 :\n",
    "        p=[i[idx:] for i in gicNum if len(i[idx:].strip()) >0]\n",
    "        out=gicRecognize2(p)\n",
    "        outputList.insert(0, out)\n",
    "        \n",
    "for i in outputList:\n",
    "    output = i + output*10\n",
    "print(output)\n",
    "\n"
   ]
  }
 ],
 "metadata": {
  "kernelspec": {
   "display_name": "Python 3",
   "language": "python",
   "name": "python3"
  },
  "language_info": {
   "codemirror_mode": {
    "name": "ipython",
    "version": 3
   },
   "file_extension": ".py",
   "mimetype": "text/x-python",
   "name": "python",
   "nbconvert_exporter": "python",
   "pygments_lexer": "ipython3",
   "version": "3.6.4"
  }
 },
 "nbformat": 4,
 "nbformat_minor": 2
}
