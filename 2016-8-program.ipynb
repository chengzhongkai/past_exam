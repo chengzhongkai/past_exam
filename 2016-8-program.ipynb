{
 "cells": [
  {
   "cell_type": "code",
   "execution_count": null,
   "metadata": {},
   "outputs": [],
   "source": [
    "#define 0-9\n",
    "numberList = {0:\"****\\n|  |\\n*  *\\n|  |\\n****\",\n",
    "              1:\"*\\n|\\n*\\n|\\n*\",\n",
    "              2:\"****\\n   |\\n****\\n|   \\n****\",\n",
    "             }\n",
    "print(numberList[2])\n"
   ]
  }
 ],
 "metadata": {
  "kernelspec": {
   "display_name": "Python 3",
   "language": "python",
   "name": "python3"
  },
  "language_info": {
   "codemirror_mode": {
    "name": "ipython",
    "version": 3
   },
   "file_extension": ".py",
   "mimetype": "text/x-python",
   "name": "python",
   "nbconvert_exporter": "python",
   "pygments_lexer": "ipython3",
   "version": "3.6.4"
  }
 },
 "nbformat": 4,
 "nbformat_minor": 2
}
