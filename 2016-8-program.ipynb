{
 "cells": [
  {
   "cell_type": "code",
   "execution_count": 15,
   "metadata": {},
   "outputs": [
    {
     "name": "stdout",
     "output_type": "stream",
     "text": [
      "****  *  ****  \n",
      "|__|  |  |___  \n",
      "****  *  ****  \n",
      "|__|  |  ___|  \n",
      "****  *  ****  \n",
      "\n"
     ]
    }
   ],
   "source": [
    "#define 0-9\n",
    "numberList = {0:[\"****\",\"|  |\",\"*  *\",\"|  |\",\"****\"],\n",
    "              1:[\"*\",\"|\",\"*\",\"|\",\"*\"],\n",
    "              2:[\"****\",\"|  |\",\"*  *\",\"****\"],\n",
    "              3:\"****\\n   |\\n****\\n|   \\n****\",\n",
    "              4:\"****\\n   |\\n****\\n|   \\n****\",\n",
    "              5:[\"****\",\"|___\",\"****\",\"___|\",\"****\"],\n",
    "              6:\"****\\n   |\\n****\\n|   \\n****\",\n",
    "              7:\"****\\n   |\\n****\\n|   \\n****\",\n",
    "              8:[\"****\",\"|__|\",\"****\",\"|__|\",\"****\"],\n",
    "              9:\"****\\n   |\\n****\\n|   \\n****\",\n",
    "             }\n",
    "\n",
    "input =815\n",
    "o=815\n",
    "outList = []\n",
    "outString=[\"\",\"\",\"\",\"\",\"\",\"\"]\n",
    "while o >1 :\n",
    "    outList.insert(0, o%10)\n",
    "    o=o/10\n",
    "\n",
    "for x in outList: \n",
    "    line=0\n",
    "    for y in numberList[x]:\n",
    "        outString[line]+=y+\"  \"\n",
    "        line=line+1\n",
    "    \n",
    "for x in outString:   \n",
    "    print(x)\n"
   ]
  }
 ],
 "metadata": {
  "kernelspec": {
   "display_name": "Python 2",
   "language": "python",
   "name": "python2"
  },
  "language_info": {
   "codemirror_mode": {
    "name": "ipython",
    "version": 2
   },
   "file_extension": ".py",
   "mimetype": "text/x-python",
   "name": "python",
   "nbconvert_exporter": "python",
   "pygments_lexer": "ipython2",
   "version": "2.7.13"
  }
 },
 "nbformat": 4,
 "nbformat_minor": 2
}
