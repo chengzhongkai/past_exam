{
 "cells": [
  {
   "cell_type": "markdown",
   "metadata": {},
   "source": [
    "(1) The following function f is a function often used as a simple random number generator.\n",
    "$$\n",
    "f(n) =\n",
    "\\begin{aligned}\n",
    "\\begin{cases}\n",
    "1 & if\\ n < 1, \n",
    "\\\\ (161 \\times f(n - 1) + 2457) mod 2^{24}  & otherwise.\n",
    "\\end{cases}\n",
    "\\end{aligned}\n",
    " $$\n",
    " where n is a non-negative integer and mod denotes a modulus operator (the remainder). Write a program that computes f(n) for given n. Then print the value of f (100) by using this program. "
   ]
  },
  {
   "cell_type": "code",
   "execution_count": 1,
   "metadata": {},
   "outputs": [
    {
     "name": "stdout",
     "output_type": "stream",
     "text": [
      "2618\n",
      "1150348\n",
      "11329\n"
     ]
    }
   ],
   "source": [
    "print(161+2457)\n",
    "def f(n):\n",
    "    if n < 1 :\n",
    "        return 1\n",
    "    return (161*f(n-1)+2457)%(2**24)\n",
    "\n",
    "print(f(3))\n",
    "\n",
    "re =1\n",
    "for i in range(1000000):\n",
    "    re = (161*re+2457)%(2**24)\n",
    "print(re)\n"
   ]
  },
  {
   "cell_type": "markdown",
   "metadata": {},
   "source": [
    "(2)Write a program that counts the number of i such that i < 100 and f (i) is an even number.\n"
   ]
  },
  {
   "cell_type": "code",
   "execution_count": 2,
   "metadata": {},
   "outputs": [
    {
     "name": "stdout",
     "output_type": "stream",
     "text": [
      "50\n"
     ]
    }
   ],
   "source": [
    "cnt=0\n",
    "for i in range(100):\n",
    "    if f(i)%2 == 0:\n",
    "        cnt+=1\n",
    "print(cnt)"
   ]
  },
  {
   "cell_type": "markdown",
   "metadata": {},
   "source": [
    "(3)\tWrite a program that counts the number of i such that i is an odd number, i < 100, and f(i) is an even number."
   ]
  },
  {
   "cell_type": "code",
   "execution_count": null,
   "metadata": {},
   "outputs": [
    {
     "name": "stdout",
     "output_type": "stream",
     "text": [
      "50\n"
     ]
    }
   ],
   "source": [
    "cnt=0\n",
    "for i in range(100):\n",
    "    if f(i)%2 == 0 and i%2==1:\n",
    "        cnt+=1\n",
    "print(cnt)"
   ]
  },
  {
   "cell_type": "markdown",
   "metadata": {},
   "source": [
    "(4)\tWrite a program that prints the value of /(1000000)."
   ]
  },
  {
   "cell_type": "code",
   "execution_count": null,
   "metadata": {},
   "outputs": [],
   "source": [
    "import sys\n",
    "sys.setrecursionlimit(10000000)\n",
    "print(f(1000000))"
   ]
  },
  {
   "cell_type": "markdown",
   "metadata": {},
   "source": [
    "(5)Write a program that computes the following function g where n is a non-negative integer:\n",
    "$$\n",
    "g(n) =\n",
    "\\begin{aligned}\n",
    "\\begin{cases}\n",
    "1 & if  n < 1, \n",
    "\\\\ (1103515245 \\times g(n - 1) + 12345) mod 2^{26}  & otherwise.\n",
    "\\end{cases}\n",
    "\\end{aligned}\n",
    " $$\n",
    " Then run the program to print the values of g(2) and g(3)."
   ]
  },
  {
   "cell_type": "code",
   "execution_count": null,
   "metadata": {},
   "outputs": [],
   "source": [
    "def g(n):\n",
    "    if n<1:\n",
    "        return 1\n",
    "    return (1103515245*g(n-1)+12345) % (2**26)\n",
    "print(g(1),g(2),g(3))\n",
    "\n",
    "re =1\n",
    "for i in range(100):\n",
    "    re = (1103515245*re+12345) % (2**26)\n",
    "    if i>2 and re == 29785766:\n",
    "        break\n",
    "    print(i,re)\n",
    "    \n"
   ]
  },
  {
   "cell_type": "markdown",
   "metadata": {},
   "source": [
    "(6)\tWrite a program that computes the smallest positive integer k such that g(n + k) = g(n) for any non-negative integer n.\n"
   ]
  },
  {
   "cell_type": "code",
   "execution_count": null,
   "metadata": {},
   "outputs": [],
   "source": [
    "a=g(0)\n",
    "b=0\n",
    "while b<100 or a!=g(b):\n",
    "    b+=1\n",
    "print(b)\n",
    "    "
   ]
  },
  {
   "cell_type": "markdown",
   "metadata": {},
   "source": [
    "(7)Write a program that computes the smallest positive integer k such that h( n+k) = h( n) for any non-negative integer n. Write on the answer sheet why the program correctly computes k. h is a function defined as follows:\n",
    "$$\n",
    "h(n) = g(n)\\ mod\\ 2^{10}\n",
    "$$"
   ]
  }
 ],
 "metadata": {
  "kernelspec": {
   "display_name": "Python 3",
   "language": "python",
   "name": "python3"
  },
  "language_info": {
   "codemirror_mode": {
    "name": "ipython",
    "version": 3
   },
   "file_extension": ".py",
   "mimetype": "text/x-python",
   "name": "python",
   "nbconvert_exporter": "python",
   "pygments_lexer": "ipython3",
   "version": "3.6.4"
  }
 },
 "nbformat": 4,
 "nbformat_minor": 2
}
