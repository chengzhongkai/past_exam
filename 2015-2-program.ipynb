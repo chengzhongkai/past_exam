{
 "cells": [
  {
   "cell_type": "code",
   "execution_count": null,
   "metadata": {},
   "outputs": [],
   "source": [
    "(1)"
   ]
  },
  {
   "cell_type": "code",
   "execution_count": null,
   "metadata": {},
   "outputs": [],
   "source": [
    "print(161+2457)\n",
    "def f(n):\n",
    "    if n < 1 :\n",
    "        return 1\n",
    "    return (161*f(n-1)+2457)%(2**24)\n",
    "\n",
    "print(f(3))\n",
    "\n",
    "re =1\n",
    "for i in range(1000000):\n",
    "    re = (161*re+2457)%(2**24)\n",
    "print(re)\n"
   ]
  },
  {
   "cell_type": "markdown",
   "metadata": {},
   "source": [
    "(2)"
   ]
  },
  {
   "cell_type": "code",
   "execution_count": null,
   "metadata": {},
   "outputs": [],
   "source": [
    "cnt=0\n",
    "for i in range(100):\n",
    "    if f(i)%2 == 0:\n",
    "        cnt+=1\n",
    "print(cnt)"
   ]
  },
  {
   "cell_type": "markdown",
   "metadata": {},
   "source": [
    "(3)"
   ]
  },
  {
   "cell_type": "code",
   "execution_count": null,
   "metadata": {},
   "outputs": [],
   "source": [
    "cnt=0\n",
    "for i in range(100):\n",
    "    if f(i)%2 == 0 and i%2==1:\n",
    "        cnt+=1\n",
    "print(cnt)"
   ]
  },
  {
   "cell_type": "markdown",
   "metadata": {},
   "source": [
    "(4)"
   ]
  },
  {
   "cell_type": "code",
   "execution_count": null,
   "metadata": {},
   "outputs": [],
   "source": [
    "import sys\n",
    "sys.setrecursionlimit(10000000)\n",
    "print(f(1000000))"
   ]
  },
  {
   "cell_type": "markdown",
   "metadata": {},
   "source": [
    "(5)"
   ]
  },
  {
   "cell_type": "code",
   "execution_count": 2,
   "metadata": {},
   "outputs": [
    {
     "name": "stdout",
     "output_type": "stream",
     "text": [
      "29785766 41857255 58844308\n",
      "67108864\n",
      "0 29785766\n",
      "1 41857255\n",
      "2 58844308\n",
      "3 7052093\n",
      "4 21749554\n",
      "5 33256579\n",
      "6 31634944\n",
      "7 16494137\n",
      "8 55884926\n",
      "9 66508255\n",
      "10 45953580\n",
      "11 31454453\n",
      "12 58466954\n",
      "13 52228347\n",
      "14 31540504\n",
      "15 8907633\n",
      "16 33676630\n",
      "17 46113239\n",
      "18 36805316\n",
      "19 64933293\n",
      "20 22444258\n",
      "21 57836659\n",
      "22 1023792\n",
      "23 4691881\n",
      "24 6766894\n",
      "25 23524559\n",
      "26 42434140\n",
      "27 56165733\n",
      "28 27935290\n",
      "29 8916715\n",
      "30 54273096\n",
      "31 56201953\n",
      "32 48908294\n",
      "33 39235271\n",
      "34 18038004\n",
      "35 41647133\n",
      "36 30596754\n",
      "37 25522275\n",
      "38 27341920\n",
      "39 30981401\n",
      "40 20730334\n",
      "41 55881663\n",
      "42 22361740\n",
      "43 3084757\n",
      "44 53980650\n",
      "45 44992731\n",
      "46 40185720\n",
      "47 6026833\n",
      "48 64667318\n",
      "49 16963511\n",
      "50 41536292\n",
      "51 60335757\n",
      "52 13373506\n",
      "53 14891091\n",
      "54 52065680\n",
      "55 58072713\n",
      "56 26144398\n",
      "57 39782063\n",
      "58 14244540\n",
      "59 60365381\n",
      "60 9397658\n",
      "61 18833099\n",
      "62 20932264\n",
      "63 53876161\n",
      "64 15614310\n",
      "65 4398247\n",
      "66 58213716\n",
      "67 38620413\n",
      "68 17632754\n",
      "69 66772035\n",
      "70 62808768\n",
      "71 44481529\n",
      "72 31070014\n",
      "73 15006111\n",
      "74 25619180\n",
      "75 9313973\n",
      "76 47999306\n",
      "77 19501243\n",
      "78 7195096\n",
      "79 55505201\n",
      "80 50319382\n",
      "81 55999895\n",
      "82 65121156\n",
      "83 24145773\n",
      "84 35706786\n",
      "85 50027571\n",
      "86 26213360\n",
      "87 11638121\n",
      "88 56151022\n",
      "89 50694287\n",
      "90 43050780\n",
      "91 29695781\n",
      "92 637178\n",
      "93 31202987\n",
      "94 55793928\n",
      "95 63801505\n",
      "96 61500102\n",
      "97 54262407\n",
      "98 38337972\n",
      "99 60362205\n"
     ]
    }
   ],
   "source": [
    "def g(n):\n",
    "    if n<1:\n",
    "        return 1\n",
    "    return (1103515245*g(n-1)+12345) % (2**26)\n",
    "print(g(1),g(2),g(3))\n",
    "\n",
    "re =1\n",
    "for i in range(100):\n",
    "    re = (1103515245*re+12345) % (2**26)\n",
    "    if i>2 and re == 29785766:\n",
    "        break\n",
    "    print(i,re)\n",
    "    \n"
   ]
  },
  {
   "cell_type": "code",
   "execution_count": null,
   "metadata": {},
   "outputs": [],
   "source": [
    "a=g(0)\n",
    "b=0\n",
    "while b<100 or a!=g(b):\n",
    "    b+=1\n",
    "print(b)\n",
    "    "
   ]
  }
 ],
 "metadata": {
  "kernelspec": {
   "display_name": "Python 3",
   "language": "python",
   "name": "python3"
  },
  "language_info": {
   "codemirror_mode": {
    "name": "ipython",
    "version": 3
   },
   "file_extension": ".py",
   "mimetype": "text/x-python",
   "name": "python",
   "nbconvert_exporter": "python",
   "pygments_lexer": "ipython3",
   "version": "3.6.4"
  }
 },
 "nbformat": 4,
 "nbformat_minor": 2
}
