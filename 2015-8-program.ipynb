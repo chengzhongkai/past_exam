{
 "cells": [
  {
   "cell_type": "markdown",
   "metadata": {},
   "source": [
    "Write programs for the following questions. When writing the programs, you must not use a built-in library function that directly implements the specified behavior. For example, the program for (1) must not include a call to to_i in Ruby. "
   ]
  },
  {
   "cell_type": "markdown",
   "metadata": {},
   "source": [
    "(1)\tWrite a program that reads a number in the quaternary representation (base-4 positional notation) and prints it in the decimal representation. For example, it reads 123 and prints 27.  "
   ]
  },
  {
   "cell_type": "markdown",
   "metadata": {},
   "source": [
    "(2)\tSuppose that symbols a, b, c, ... , h denote numbers 0, 1, 2, ... , 7, respectively. Write a program that reads a number expressed with a, b, c, ... , h in the octal representation and prints the number in the decimal representation. For example, it reads bed and prints 83.  "
   ]
  },
  {
   "cell_type": "markdown",
   "metadata": {},
   "source": [
    "(3)\tWrite on the answer sheet decimal number 2015 in Roman numerals.\n",
    "Roman numerals use seven symbols I, V, X, L, C, D, and M. Their values are 1, 5, 10, 50, 100, 500, and 1000, respectively. They are formed as follows: \n",
    "\n",
    ">Numbers are formed by combining symbols and adding the values. So II is two ones, i.e. 2, and XIII is a ten and three ones, i.e. 13. There is no zero in this system, so 207, for example, is CCVII, using the symbols for two hundreds, a five and two ones. 1066 is MLXVI, one thousand, fifty and ten, a five and a one. \n",
    ">Symbols are placed from left to right in order of value, starting with the largest. However, in a few specific cases, to avoid four characters being repeated in succession (such as IIII or XXXX) these can be reduced using subtractive notation as follows:  \n",
    "\n",
    "+\tthe numeral I can be placed before V and X to make 4 units (IV) and 9 units(IX)\trespectively\n",
    "+\tX can be placed before L and C to make 40 (XL) and 90 (XC) respectively\n",
    "+\tC can be placed before· D and M to make 400 (CD) and 900 ( CM)\n",
    "\n",
    ">An example using the above rules would be 1904: this is composed of 1 ( one thousand), 9 (nine hundreds), 0 (zero tens), and 4 (four units). To write the Roman numeral, each of the non-zero digits should be treated separately. Thus 1,000 = M, 900 = CM, and 4 = IV. Therefore, 1904 is MCMIV.   \n",
    ">(Reference: http://en.wikipedia.org/wiki/Roman_numerals) \n",
    "\n",
    "The symbols have to be selected so that the number of the symbols will be the minimum. For example, IV is composed of two symbols. "
   ]
  },
  {
   "cell_type": "markdown",
   "metadata": {},
   "source": [
    "(4)\tWrite a program that reads a number in Roman numerals and prints it in the decimal representation. Assume that the number is more than O and less than 4000.  \n"
   ]
  },
  {
   "cell_type": "markdown",
   "metadata": {},
   "source": [
    "\n",
    "(5)\tWrite a program that reads a number in the decimal representation and prints it in Roman numerals. The number is more than O and less than 4000.  "
   ]
  },
  {
   "cell_type": "markdown",
   "metadata": {},
   "source": [
    "\n",
    "(6)\tExtend the subtraction notation of Roman numerals as follows.  \n",
    ">A symbol can be placed between adjacent larger symbols a and (3 than that symbol, where $\\alpha > \\beta$ or $\\alpha$ is blank. For example, CIL is 149 because 100 -1 + 50 = 149. IL is 49 because -1 + 50 = 49.   \n",
    "\n",
    "Write a program that reads a number in the decimal representation and prints it in the extended Roman numerals. The number is more than O and less than 4000. The symbols have to be selected so that the number of the symbols will be the minimum.   "
   ]
  },
  {
   "cell_type": "markdown",
   "metadata": {},
   "source": [
    "\n",
    "(7)Write a program that reads a number expressed in English and prints it in the decimal representation. The number is a positive integer less than 100000. For example, it reads:\n",
    ">fifty four thousand three hundred twelve   \n",
    "\n",
    "and prints 54312. The program may accept at least one English expression for each number. For example, for 1200, the program may only accept either one thousand two hundred or twelve hundred. "
   ]
  }
 ],
 "metadata": {
  "kernelspec": {
   "display_name": "Python 3",
   "language": "python",
   "name": "python3"
  },
  "language_info": {
   "codemirror_mode": {
    "name": "ipython",
    "version": 3
   },
   "file_extension": ".py",
   "mimetype": "text/x-python",
   "name": "python",
   "nbconvert_exporter": "python",
   "pygments_lexer": "ipython3",
   "version": "3.6.4"
  }
 },
 "nbformat": 4,
 "nbformat_minor": 2
}
